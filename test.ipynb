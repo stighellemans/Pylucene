{
 "cells": [
  {
   "cell_type": "code",
   "execution_count": null,
   "metadata": {
    "vscode": {
     "languageId": "plaintext"
    }
   },
   "outputs": [],
   "source": [
    "from pathlib import Path\n",
    "import re\n",
    "import time\n",
    "from functools import partial\n",
    "\n",
    "import pandas as pd\n",
    "import lucene\n",
    "import matplotlib.pyplot as plt\n",
    "\n",
    "from src.helpers import process_query_results\n",
    "from src.database import make_database, get_vocabulary\n",
    "from src.query import query_database, fuzzy_query_database\n",
    "from src.evaluation import map_at_k, mar_at_k, retrieve_top_k_docs\n",
    "from src.analyzer import StemmingAnalyzer, WordLevelNGramAnalyzer\n"
   ]
  },
  {
   "cell_type": "code",
   "execution_count": null,
   "metadata": {
    "vscode": {
     "languageId": "plaintext"
    }
   },
   "outputs": [],
   "source": [
    "base_path = Path(\"/root/data/\")\n",
    "base_small_doc_path = base_path / \"full_docs_small\"\n",
    "base_large_doc_path = base_path / \"full_docs\"\n",
    "\n",
    "small_docs = {int(re.search(r'\\d+', doc_path.name).group()): doc_path for doc_path in base_small_doc_path.glob(\"*.txt\")}\n",
    "large_docs = {int(re.search(r'\\d+', doc_path.name).group()): doc_path for doc_path in base_large_doc_path.glob(\"*.txt\")}\n",
    "\n",
    "small_queries = pd.read_csv(base_path / \"dev_small_queries - dev_small_queries.csv\", index_col=\"Query number\").to_dict()[\"Query\"]\n",
    "small_query_results = pd.read_csv(base_path / \"dev_query_results_small.csv\", index_col=\"Query_number\")\n",
    "small_query_results = process_query_results(small_queries, small_query_results)\n",
    "\n",
    "large_queries = pd.read_csv(base_path / \"dev_queries.tsv\", delimiter=\"\\t\", index_col=\"Query number\").to_dict()[\"Query\"]\n",
    "large_query_results = pd.read_csv(base_path / \"dev_query_results.csv\", index_col=\"Query_number\")\n",
    "large_query_results = process_query_results(large_queries, large_query_results)\n",
    "\n",
    "test_queries = pd.read_csv(base_path / \"queries.csv\", delimiter=\"\\t\", index_col=\"Query number\").to_dict()[\"Query\"]\n",
    "\n",
    "\n"
   ]
  },
  {
   "cell_type": "code",
   "execution_count": null,
   "metadata": {},
   "outputs": [],
   "source": [
    "# Calculate lengths of each query\n",
    "short_queries = {q_id: q for q_id, q in large_queries.items() if len(q) <= 50}"
   ]
  },
  {
   "cell_type": "code",
   "execution_count": null,
   "metadata": {
    "scrolled": true
   },
   "outputs": [],
   "source": [
    "lucene.initVM()"
   ]
  },
  {
   "cell_type": "code",
   "execution_count": null,
   "metadata": {},
   "outputs": [],
   "source": [
    "\n",
    "index_dir = \"/root/index/large\"\n",
    "output_dir = \"/root/pylucene/results\"\n",
    "similarity = \"BM25\"\n",
    "analyzer = None\n",
    "fuzziness = 1"
   ]
  },
  {
   "cell_type": "code",
   "execution_count": null,
   "metadata": {},
   "outputs": [],
   "source": [
    "start_time = time.time()\n",
    "make_database(doc_paths=small_docs, index_directory=index_dir, similarity=similarity, custom_analyzer=analyzer, \n",
    "              store_original=False)\n",
    "end_time = time.time()\n",
    "\n",
    "#vocab_size = len(get_vocabulary(index_dir=index_dir))\n",
    "#print(f\"Done after: {end_time - start_time:.2f}s with vocab size: {vocab_size}\")"
   ]
  },
  {
   "cell_type": "code",
   "execution_count": null,
   "metadata": {},
   "outputs": [],
   "source": [
    "results = query_database(index_directory=index_dir, query_str=\"Milestones\", top_k=5)\n",
    "print(results)"
   ]
  },
  {
   "cell_type": "code",
   "execution_count": null,
   "metadata": {
    "scrolled": true
   },
   "outputs": [],
   "source": [
    "k_values = [1, 3, 5, 10]\n",
    "# query_function = partial(query_database, similarity=similarity, custom_analyzer=analyzer)\n",
    "query_function = partial(fuzzy_query_database, similarity=similarity, custom_analyzer=analyzer, fuzziness=fuzziness)\n",
    "\n",
    "\n",
    "\n",
    "for k in k_values:\n",
    "    map_k = map_at_k(small_queries, small_query_results, index_dir, k, query_function=query_function)\n",
    "    mar_k = mar_at_k(small_queries, small_query_results, index_dir, k, query_function=query_function)\n",
    "    print(f\"MAP@{k}: {map_k}\")\n",
    "    print(f\"MAR@{k}: {mar_k}\")"
   ]
  },
  {
   "cell_type": "code",
   "execution_count": null,
   "metadata": {},
   "outputs": [],
   "source": [
    "query_function = partial(fuzzy_query_database, similarity=similarity, custom_analyzer=analyzer, fuzziness=fuzziness)\n",
    "\n",
    "def calculate_fuzzy(metric, fuzziness, k):\n",
    "    query_function = partial(fuzzy_query_database, similarity=similarity, custom_analyzer=analyzer, fuzziness=fuzziness)\n",
    "\n",
    "    if metric == \"MAP\":\n",
    "        return map_at_k(short_queries, large_query_results, index_dir, k, query_function=query_function)\n",
    "    elif metric == \"MAR\":\n",
    "        return mar_at_k(short_queries, large_query_results, index_dir, k, query_function=query_function)\n",
    "    else:\n",
    "        raise ValueError(f\"{metric} is no correct metric.\")\n",
    "\n",
    "    \n",
    "k_values = [1, 3, 5, 10]\n",
    "fuzziness = [0, 1, 2]\n",
    "\n",
    "map_results = {}\n",
    "mar_results = {}\n",
    "\n",
    "# Generating simulated MAP and MAR values for each (k, fuzziness) combination.\n",
    "for k in k_values:\n",
    "    map_results[k] = [calculate_fuzzy(\"MAP\", f, k) for f in fuzziness]\n",
    "    mar_results[k] = [calculate_fuzzy(\"MAR\", f, k) for f in fuzziness]"
   ]
  },
  {
   "cell_type": "code",
   "execution_count": null,
   "metadata": {},
   "outputs": [],
   "source": [
    "save_path = \"/root/pylucene/results/fuzziness.png\"\n",
    "\n",
    "fig, axes = plt.subplots(1, 2, figsize=(16, 6))\n",
    "\n",
    "# MAP plot\n",
    "for k in k_values:\n",
    "    axes[0].plot(fuzziness, map_results[k], marker='o', label=f'MAP@{k}')\n",
    "axes[0].set_xlabel('Fuzziness')\n",
    "axes[0].set_ylabel('MAP')\n",
    "axes[0].set_title('Mean Average Precision (MAP) across Fuzziness Levels')\n",
    "axes[0].set_xticks(fuzziness)  # Set x-axis to display only whole numbers\n",
    "axes[0].legend()\n",
    "\n",
    "# MAR plot\n",
    "for k in k_values:\n",
    "    axes[1].plot(fuzziness, mar_results[k], marker='o', label=f'MAR@{k}')\n",
    "axes[1].set_xlabel('Fuzziness')\n",
    "axes[1].set_ylabel('MAR')\n",
    "axes[1].set_title('Mean Average Recall (MAR) across Fuzziness Levels')\n",
    "axes[1].set_xticks(fuzziness)  # Set x-axis to display only whole numbers\n",
    "axes[1].legend()\n",
    "\n",
    "plt.tight_layout()\n",
    "fig.savefig(save_path)"
   ]
  },
  {
   "cell_type": "code",
   "execution_count": null,
   "metadata": {},
   "outputs": [],
   "source": [
    "k = 10\n",
    "query_function = partial(query_database, similarity=similarity, custom_analyzer=analyzer)\n",
    "\n",
    "results = retrieve_top_k_docs(test_queries, index_directory=index_dir, query_function=query_function, k=k)\n",
    "\n",
    "results = [(q_id, doc_id) for q_id, doc_ids in results.items() for doc_id in doc_ids]\n",
    "pd.DataFrame(sorted(results, key=lambda x: x[0]), columns=[\"Query_number\", \"doc_number\"]).to_csv(Path(output_dir)/\"results.csv\", index=False)"
   ]
  },
  {
   "cell_type": "code",
   "execution_count": null,
   "metadata": {},
   "outputs": [],
   "source": [
    "get_vocabulary(index_dir)"
   ]
  },
  {
   "cell_type": "code",
   "execution_count": null,
   "metadata": {},
   "outputs": [],
   "source": []
  },
  {
   "cell_type": "markdown",
   "metadata": {},
   "source": [
    "# "
   ]
  }
 ],
 "metadata": {
  "kernelspec": {
   "display_name": "Python (Docker)",
   "language": "python",
   "name": "docker-python"
  },
  "language_info": {
   "codemirror_mode": {
    "name": "ipython",
    "version": 3
   },
   "file_extension": ".py",
   "mimetype": "text/x-python",
   "name": "python",
   "nbconvert_exporter": "python",
   "pygments_lexer": "ipython3",
   "version": "3.12.3"
  }
 },
 "nbformat": 4,
 "nbformat_minor": 4
}
